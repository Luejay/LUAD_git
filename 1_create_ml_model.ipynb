{
 "cells": [
  {
   "cell_type": "code",
   "execution_count": 1,
   "metadata": {},
   "outputs": [],
   "source": [
    "%load_ext autoreload\n",
    "%autoreload 2"
   ]
  },
  {
   "cell_type": "code",
   "execution_count": 2,
   "metadata": {},
   "outputs": [],
   "source": [
    "from sklearn.feature_selection import VarianceThreshold\n",
    "\n",
    "import pandas as pd\n",
    "\n",
    "from modify_df import ic50_binary, split_df_by_cell_line, split_df_by_drugname\n",
    "\n",
    "from create_model import defineSplits, create_all_models, make_logres_model, make_svc_model, make_gb_model\n"
   ]
  },
  {
   "cell_type": "code",
   "execution_count": 3,
   "metadata": {},
   "outputs": [],
   "source": [
    "df =  pd.read_csv(\"./data/datafile.csv\")\n",
    "df = ic50_binary(df)\n",
    "\n",
    "train, test = split_df_by_drugname(df,0.8)"
   ]
  },
  {
   "cell_type": "code",
   "execution_count": 4,
   "metadata": {},
   "outputs": [],
   "source": [
    "train_x = train.drop(['IC50_binary','Cell Line Name', 'Drug Name'],axis =1)\n",
    "train_y = train['IC50_binary']"
   ]
  },
  {
   "cell_type": "code",
   "execution_count": 5,
   "metadata": {},
   "outputs": [
    {
     "name": "stdout",
     "output_type": "stream",
     "text": [
      "Removed  cnaLUAD4\n"
     ]
    }
   ],
   "source": [
    "\n",
    "\n",
    "threshold = 1.0\n",
    "splits = defineSplits(train_x,train_y)\n",
    "\n",
    "constant_filter = VarianceThreshold(threshold=0)\n",
    "constant_filter.fit(train_x)\n",
    "constant_columns = [column for column in train_x.columns\n",
    "                    if column not in train_x.columns[constant_filter.get_support()]]\n",
    "#X_test = constant_filter.transform(train_x)\n",
    "for column in constant_columns:\n",
    "    print(\"Removed \", column)\n",
    "    \n",
    "\n",
    "train_x = train_x.drop(constant_columns, axis = 1)"
   ]
  },
  {
   "cell_type": "code",
   "execution_count": null,
   "metadata": {},
   "outputs": [],
   "source": [
    "create_all_models(train_x,train_y,'IC50_binary',threshold,splits,train_x.columns.tolist(),max = 100)"
   ]
  },
  {
   "cell_type": "code",
   "execution_count": null,
   "metadata": {},
   "outputs": [],
   "source": [
    "import os\n",
    "from utils import calculate_feature_importance\n",
    "import seaborn as sns\n",
    "import matplotlib.pyplot as plt\n"
   ]
  },
  {
   "cell_type": "code",
   "execution_count": null,
   "metadata": {},
   "outputs": [],
   "source": [
    "test_x = test.drop(['IC50_binary','Cell Line Name', 'Drug Name'],axis =1)\n",
    "test_y = test['IC50_binary']"
   ]
  },
  {
   "cell_type": "code",
   "execution_count": null,
   "metadata": {},
   "outputs": [],
   "source": [
    "model_dir = './models_made/2023_9_6_03_39_22_randvar_123_cor_1.0_yvar_IC50_binary'"
   ]
  },
  {
   "cell_type": "code",
   "execution_count": null,
   "metadata": {},
   "outputs": [],
   "source": [
    "logres_score = calculate_feature_importance(test_x,test_y, model_dir+'/logres')\n",
    "gb_score = calculate_feature_importance(test_x,test_y, model_dir+'/gb')\n",
    "svc_score = calculate_feature_importance(test_x,test_y, model_dir+'/svc')"
   ]
  },
  {
   "cell_type": "code",
   "execution_count": null,
   "metadata": {},
   "outputs": [],
   "source": [
    "logres_score.rename(columns={'z-score': 'Logistic Regression'}, inplace=True)\n",
    "gb_score.rename(columns={'z-score': 'Gradient Boosting'}, inplace=True)\n",
    "svc_score.rename(columns={'z-score': 'Support Vector Machine'}, inplace=True)"
   ]
  },
  {
   "cell_type": "code",
   "execution_count": null,
   "metadata": {},
   "outputs": [],
   "source": [
    "all_score = pd.concat([logres_score,gb_score,svc_score], axis=1)\n",
    "\n",
    "fig, ax = plt.subplots(figsize=(15, 10))\n",
    "\n",
    "sns.heatmap(all_score, cmap='coolwarm', annot=False, fmt=\".3f\", ax=ax,linewidths=1)\n",
    "\n",
    "\n",
    "ax.set_xlabel(\"Models\")\n",
    "ax.set_ylabel(\"Features\")\n",
    "ax.set_title(\"Z-score Heatmap\")\n",
    "\n",
    "plt.show()\n",
    "\n",
    "os.makedirs('./graphs/zscore',exist_ok=True)\n"
   ]
  }
 ],
 "metadata": {
  "kernelspec": {
   "display_name": "Python 3",
   "language": "python",
   "name": "python3"
  },
  "language_info": {
   "codemirror_mode": {
    "name": "ipython",
    "version": 3
   },
   "file_extension": ".py",
   "mimetype": "text/x-python",
   "name": "python",
   "nbconvert_exporter": "python",
   "pygments_lexer": "ipython3",
   "version": "3.10.10"
  },
  "orig_nbformat": 4
 },
 "nbformat": 4,
 "nbformat_minor": 2
}
