{
 "cells": [
  {
   "cell_type": "code",
   "execution_count": 1,
   "metadata": {},
   "outputs": [],
   "source": [
    "%load_ext autoreload\n",
    "%autoreload 2"
   ]
  },
  {
   "cell_type": "code",
   "execution_count": 2,
   "metadata": {},
   "outputs": [
    {
     "name": "stderr",
     "output_type": "stream",
     "text": [
      "Using `tqdm.autonotebook.tqdm` in notebook mode. Use `tqdm.tqdm` instead to force console mode (e.g. in jupyter console)\n"
     ]
    }
   ],
   "source": [
    "import pandas as pd\n",
    "import os\n",
    "from utils import calculate_feature_importance\n",
    "import seaborn as sns\n",
    "import matplotlib.pyplot as plt\n",
    "\n",
    "from modify_df import ic50_binary, split_df_by_cell_line, split_df_by_drugname\n",
    "\n",
    "from create_model import defineSplits, create_all_models, make_logres_model, make_svc_model, make_gb_model\n",
    "from create_model import define_splits_for_regression\n"
   ]
  },
  {
   "cell_type": "code",
   "execution_count": 3,
   "metadata": {},
   "outputs": [],
   "source": [
    "drugname = '5-Fluorouracil'\n",
    "select_drugname = True"
   ]
  },
  {
   "cell_type": "code",
   "execution_count": 4,
   "metadata": {},
   "outputs": [],
   "source": [
    "train =  pd.read_csv(\"./data/Training_data.csv\")\n",
    "train.rename(columns={\"DRUG_NAME\":\"Drug Name\", 'CELL_LINE_NAME': 'Cell Line Name'}, inplace = True)\n",
    "\n"
   ]
  },
  {
   "cell_type": "code",
   "execution_count": 5,
   "metadata": {},
   "outputs": [],
   "source": [
    "if select_drugname:\n",
    "\n",
    "    train = train[train['Drug Name'] == drugname]"
   ]
  },
  {
   "cell_type": "code",
   "execution_count": 6,
   "metadata": {},
   "outputs": [],
   "source": [
    "train_x = train.drop(['LN_IC50','Cell Line Name', 'Drug Name'],axis =1)\n",
    "train_y = train['LN_IC50']\n",
    "\n",
    "threshold = 0.9\n",
    "splits = define_splits_for_regression(train_x,train_y)"
   ]
  },
  {
   "cell_type": "code",
   "execution_count": 7,
   "metadata": {},
   "outputs": [
    {
     "name": "stdout",
     "output_type": "stream",
     "text": [
      "Finished Creating Linres model\n",
      "Finished Creating Baseline Models\n"
     ]
    },
    {
     "name": "stderr",
     "output_type": "stream",
     "text": [
      "100%|██████████| 600/600 [3:33:20<00:00, 21.33s/it]      \n"
     ]
    }
   ],
   "source": [
    "create_all_models(X=train_x,\n",
    "                   y=train_y, \n",
    "                   y_featname='LN_IC50',\n",
    "                   cor_threshold=threshold, \n",
    "                   cv= splits,\n",
    "                   test = False,\n",
    "                   model_iter = 10000,\n",
    "                   search_iter = 50,\n",
    "                   unique_name_of_dir = \"GeneticPathway_Fluorouracil\",\n",
    "                   make_linres = True,\n",
    "                   make_svc = False,\n",
    "                   make_gb = False)"
   ]
  },
  {
   "cell_type": "markdown",
   "metadata": {},
   "source": [
    "## Feature Importance"
   ]
  },
  {
   "cell_type": "code",
   "execution_count": null,
   "metadata": {},
   "outputs": [],
   "source": [
    "test = pd.read_csv(\"./data/Test_data.csv\")\n",
    "test.columns = train.columns"
   ]
  },
  {
   "cell_type": "code",
   "execution_count": null,
   "metadata": {},
   "outputs": [],
   "source": [
    "if select_drugname:\n",
    "    test = test[test['Drug Name'] == drugname]"
   ]
  },
  {
   "cell_type": "code",
   "execution_count": null,
   "metadata": {},
   "outputs": [],
   "source": [
    "test_x = test.drop(['LN_IC50','Cell Line Name', 'Drug Name'],axis =1)\n",
    "test_y = test['LN_IC50']"
   ]
  },
  {
   "cell_type": "code",
   "execution_count": null,
   "metadata": {},
   "outputs": [],
   "source": [
    "model_dir = './models_made/GeneticPathway_2023_9_26_17_35_27_randvar_123_cor_0.9_yvar_LN_IC50'"
   ]
  },
  {
   "cell_type": "code",
   "execution_count": null,
   "metadata": {},
   "outputs": [],
   "source": [
    "linres_score = calculate_feature_importance(test_x,test_y, model_dir+'/linres')\n",
    "gb_score = calculate_feature_importance(test_x,test_y, model_dir+'/gb')\n",
    "#svc_score = calculate_feature_importance(test_x,test_y, model_dir+'/svc')"
   ]
  },
  {
   "cell_type": "code",
   "execution_count": null,
   "metadata": {},
   "outputs": [],
   "source": [
    "linres_score.rename(columns={'z-score': 'Linear Regression'}, inplace=True)\n",
    "gb_score.rename(columns={'z-score': 'Gradient Boosting'}, inplace=True)\n",
    "#svc_score.rename(columns={'z-score': 'Support Vector Machine'}, inplace=True)"
   ]
  },
  {
   "cell_type": "code",
   "execution_count": null,
   "metadata": {},
   "outputs": [],
   "source": [
    "#all_score = pd.concat([logres_score,gb_score,svc_score], axis=1)\n",
    "all_score = pd.concat([linres_score,gb_score], axis=1)\n",
    "fig, ax = plt.subplots(figsize=(3, 50))\n",
    "\n",
    "coloring = \"coolwarm\" #coolwarm, autumn, RdGy,  cividis, inferno, viridis, cool\n",
    "\n",
    "sns.heatmap(all_score, cmap=coloring, annot=False, fmt=\".3f\", ax=ax,linewidths=1)\n",
    "\n",
    "\n",
    "ax.set_xlabel(\"Models\")\n",
    "ax.set_ylabel(\"Features\")\n",
    "ax.set_title(f\"Z-score Heatmap for {drugname} \")\n",
    "\n",
    "plt.show()\n",
    "\n",
    "os.makedirs('./graphs/zscore',exist_ok=True)\n"
   ]
  },
  {
   "cell_type": "markdown",
   "metadata": {},
   "source": [
    "## ML model prediction and outcomes df"
   ]
  },
  {
   "cell_type": "code",
   "execution_count": 23,
   "metadata": {},
   "outputs": [],
   "source": [
    "from datetime import datetime\n",
    "import joblib"
   ]
  },
  {
   "cell_type": "code",
   "execution_count": 24,
   "metadata": {},
   "outputs": [],
   "source": [
    "tm = datetime.now()\n"
   ]
  },
  {
   "cell_type": "code",
   "execution_count": 36,
   "metadata": {},
   "outputs": [],
   "source": [
    "dir_model_to_use = \"./models_made/GeneticPathway_Fluorouracil_2023_10_1_11_00_03_randvar_123_cor_0.9_yvar_LN_IC50/linres/baseline.pkl\"\n",
    "model_type = 'linres'\n",
    "\n",
    "model = joblib.load(dir_model_to_use).best_estimator_"
   ]
  },
  {
   "cell_type": "code",
   "execution_count": 27,
   "metadata": {},
   "outputs": [],
   "source": [
    "test = pd.read_csv(\"./data/Test_data.csv\")"
   ]
  },
  {
   "cell_type": "code",
   "execution_count": 28,
   "metadata": {},
   "outputs": [],
   "source": [
    "test.columns = train.columns\n",
    "\n",
    "if select_drugname:\n",
    "    test = test[test['Drug Name'] == drugname]\n",
    "    \n",
    "    \n",
    "\n",
    "test_x = test.drop(['LN_IC50','Cell Line Name', 'Drug Name'],axis =1)\n",
    "\n",
    "test_y = test['LN_IC50']"
   ]
  },
  {
   "cell_type": "code",
   "execution_count": 30,
   "metadata": {},
   "outputs": [],
   "source": [
    "y_preds = model.predict(test_x)"
   ]
  },
  {
   "cell_type": "code",
   "execution_count": 35,
   "metadata": {},
   "outputs": [],
   "source": [
    "result_df = pd.DataFrame()\n",
    "result_df['predictions'] = y_preds\n",
    "result_df['actual'] = test_y.values"
   ]
  },
  {
   "cell_type": "code",
   "execution_count": 38,
   "metadata": {},
   "outputs": [],
   "source": [
    "os.makedirs(f\"./predictions/{model_type}\", exist_ok=True)\n",
    "result_df.to_csv(f\"./predictions/{model_type}/{tm.year}_{tm.month}_{tm.day}_{tm.strftime('%H_%M_%S')}.csv\", index=False)"
   ]
  }
 ],
 "metadata": {
  "kernelspec": {
   "display_name": "Python 3",
   "language": "python",
   "name": "python3"
  },
  "language_info": {
   "codemirror_mode": {
    "name": "ipython",
    "version": 3
   },
   "file_extension": ".py",
   "mimetype": "text/x-python",
   "name": "python",
   "nbconvert_exporter": "python",
   "pygments_lexer": "ipython3",
   "version": "3.10.10"
  },
  "orig_nbformat": 4
 },
 "nbformat": 4,
 "nbformat_minor": 2
}
