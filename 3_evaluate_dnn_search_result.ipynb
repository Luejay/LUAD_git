{
 "cells": [
  {
   "cell_type": "code",
   "execution_count": 1,
   "metadata": {},
   "outputs": [],
   "source": [
    "%load_ext autoreload\n",
    "%autoreload 2"
   ]
  },
  {
   "cell_type": "code",
   "execution_count": 2,
   "metadata": {},
   "outputs": [
    {
     "name": "stderr",
     "output_type": "stream",
     "text": [
      "Using `tqdm.autonotebook.tqdm` in notebook mode. Use `tqdm.tqdm` instead to force console mode (e.g. in jupyter console)\n"
     ]
    }
   ],
   "source": [
    "from nn_model import random_search\n",
    "\n",
    "import config\n",
    "\n",
    "from utils import graph_nn_model\n",
    "\n",
    "import os\n",
    "\n",
    "import pandas as pd\n",
    "\n",
    "import torch\n",
    "\n",
    "from datetime import datetime"
   ]
  },
  {
   "cell_type": "code",
   "execution_count": 3,
   "metadata": {},
   "outputs": [
    {
     "name": "stdout",
     "output_type": "stream",
     "text": [
      "linear_model(\n",
      "  (layers): ModuleList(\n",
      "    (0): Sequential(\n",
      "      (0): Linear(in_features=600, out_features=512, bias=True)\n",
      "      (1): GELU(approximate='none')\n",
      "      (2): Identity()\n",
      "    )\n",
      "    (1): Sequential(\n",
      "      (0): Linear(in_features=512, out_features=128, bias=True)\n",
      "      (1): GELU(approximate='none')\n",
      "      (2): Identity()\n",
      "    )\n",
      "    (2): Sequential(\n",
      "      (0): Linear(in_features=128, out_features=128, bias=True)\n",
      "      (1): GELU(approximate='none')\n",
      "      (2): Identity()\n",
      "    )\n",
      "    (3): Sequential(\n",
      "      (0): Linear(in_features=128, out_features=64, bias=True)\n",
      "      (1): GELU(approximate='none')\n",
      "      (2): Identity()\n",
      "    )\n",
      "    (4): Linear(in_features=64, out_features=1, bias=True)\n",
      "  )\n",
      ")\n"
     ]
    }
   ],
   "source": [
    "search_obj = random_search(config.DEVICE)\n",
    "search_obj.load('./randomsearch/2023_10_17_19_32_47.p')\n",
    "best_model = search_obj.best_model\n",
    "best_model= best_model.to(config.DEVICE)\n",
    "print(best_model)"
   ]
  },
  {
   "cell_type": "code",
   "execution_count": 4,
   "metadata": {},
   "outputs": [],
   "source": [
    "drugname = '5-Fluorouracil'\n",
    "\n",
    "select_drugname = True"
   ]
  },
  {
   "cell_type": "code",
   "execution_count": 5,
   "metadata": {},
   "outputs": [],
   "source": [
    "df = pd.read_csv(\"./data/Test_data.csv\")\n",
    "df.columns = pd.read_csv(\"./data/Training_data.csv\").columns\n",
    "\n"
   ]
  },
  {
   "cell_type": "code",
   "execution_count": 6,
   "metadata": {},
   "outputs": [],
   "source": [
    "\n",
    "df.rename({\"CELL_LINE_NAME\":\"Cell Line Name\", \"DRUG_NAME\":\"Drug Name\"}, axis = 1, inplace = True)\n"
   ]
  },
  {
   "cell_type": "code",
   "execution_count": 7,
   "metadata": {},
   "outputs": [],
   "source": [
    "if select_drugname:\n",
    "\n",
    "    df = df[df['Drug Name'] == drugname]"
   ]
  },
  {
   "cell_type": "code",
   "execution_count": 8,
   "metadata": {},
   "outputs": [],
   "source": [
    "test_x = df.drop(['Drug Name', 'Cell Line Name',\"LN_IC50\"], axis = 1)\n",
    "test_y = df['LN_IC50']"
   ]
  },
  {
   "cell_type": "code",
   "execution_count": 9,
   "metadata": {},
   "outputs": [],
   "source": [
    "test_x_tensor = torch.tensor(test_x.values).to(torch.float32).to(config.DEVICE)\n",
    "test_y_tensor = torch.tensor(test_y.values).to(torch.float32).to(config.DEVICE)"
   ]
  },
  {
   "cell_type": "code",
   "execution_count": 10,
   "metadata": {},
   "outputs": [
    {
     "data": {
      "text/plain": [
       "'\\n\\n#graphing the model \\n\\nos.makedirs(\"./graphs/dnn_image\",exist_ok=True)\\n\\ngraph_nn_model(best_model.to(config.DEVICE),sample_row.to(config.DEVICE),\\'./graphs/dnn_image/model_image\\')\\n\\n'"
      ]
     },
     "execution_count": 10,
     "metadata": {},
     "output_type": "execute_result"
    }
   ],
   "source": [
    "#not using\n",
    "\n",
    "'''\n",
    "\n",
    "#graphing the model \n",
    "\n",
    "os.makedirs(\"./graphs/dnn_image\",exist_ok=True)\n",
    "\n",
    "graph_nn_model(best_model.to(config.DEVICE),sample_row.to(config.DEVICE),'./graphs/dnn_image/model_image')\n",
    "\n",
    "'''"
   ]
  },
  {
   "cell_type": "markdown",
   "metadata": {},
   "source": [
    "## Model predictions"
   ]
  },
  {
   "cell_type": "code",
   "execution_count": 11,
   "metadata": {},
   "outputs": [],
   "source": [
    "# model predictions\n",
    "\n",
    "os.makedirs(\"./predictions/dnn\", exist_ok=True)"
   ]
  },
  {
   "cell_type": "code",
   "execution_count": 12,
   "metadata": {},
   "outputs": [],
   "source": [
    "predictions = best_model(test_x_tensor)"
   ]
  },
  {
   "cell_type": "code",
   "execution_count": 13,
   "metadata": {},
   "outputs": [],
   "source": [
    "result_df = pd.DataFrame(predictions.cpu().detach().numpy())\n",
    "\n",
    "result_df.columns = ['predictions']\n",
    "\n",
    "result_df['actual'] = df['LN_IC50'].values"
   ]
  },
  {
   "cell_type": "code",
   "execution_count": 14,
   "metadata": {},
   "outputs": [],
   "source": [
    "\n",
    "\n",
    "\n",
    "\n",
    "prediction_name = \"gene_predict_IC50\"\n",
    "\n",
    "tm = datetime.now()\n",
    "\n",
    "\n",
    "dir_save_all_model = f\"{prediction_name}_{tm.year}_{tm.month}_{tm.day}_{tm.strftime('%H_%M_%S')}\"\n",
    "\n",
    "result_df.to_csv(f\"./predictions/dnn/{dir_save_all_model}.csv\", index=False)\n",
    "    "
   ]
  },
  {
   "cell_type": "markdown",
   "metadata": {},
   "source": [
    "## Feature importance graph"
   ]
  },
  {
   "cell_type": "code",
   "execution_count": 15,
   "metadata": {},
   "outputs": [],
   "source": [
    "from utils import calculate_dnn_feature_importance"
   ]
  },
  {
   "cell_type": "code",
   "execution_count": 16,
   "metadata": {},
   "outputs": [],
   "source": [
    "df_feature_importance = calculate_dnn_feature_importance(test_x,test_y, best_model, \n",
    "                                                         do_permutation= True,\n",
    "                                                         do_ablation=False,\n",
    "                                                         do_shap= False)"
   ]
  },
  {
   "cell_type": "code",
   "execution_count": 17,
   "metadata": {},
   "outputs": [],
   "source": [
    "os.makedirs(\"./feature_importance/dnn\", exist_ok=True)"
   ]
  },
  {
   "cell_type": "code",
   "execution_count": 18,
   "metadata": {},
   "outputs": [],
   "source": [
    "tm = datetime.now()\n",
    "\n",
    "df_feature_importance.to_csv(f\"./feature_importance/dnn/{tm.year}_{tm.month}_{tm.day}_{tm.strftime('%H_%M_%S')}.csv\", index = False)\n",
    "\n"
   ]
  },
  {
   "cell_type": "code",
   "execution_count": null,
   "metadata": {},
   "outputs": [],
   "source": []
  }
 ],
 "metadata": {
  "kernelspec": {
   "display_name": "Python 3",
   "language": "python",
   "name": "python3"
  },
  "language_info": {
   "codemirror_mode": {
    "name": "ipython",
    "version": 3
   },
   "file_extension": ".py",
   "mimetype": "text/x-python",
   "name": "python",
   "nbconvert_exporter": "python",
   "pygments_lexer": "ipython3",
   "version": "3.10.10"
  },
  "orig_nbformat": 4
 },
 "nbformat": 4,
 "nbformat_minor": 2
}
