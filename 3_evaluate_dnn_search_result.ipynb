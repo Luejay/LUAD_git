{
 "cells": [
  {
   "cell_type": "code",
   "execution_count": 1,
   "metadata": {},
   "outputs": [],
   "source": [
    "from nn_model import random_search\n",
    "\n",
    "import config\n",
    "\n",
    "from utils import graph_nn_model\n",
    "\n",
    "import os\n",
    "\n",
    "import pandas as pd\n",
    "\n",
    "import torch"
   ]
  },
  {
   "cell_type": "code",
   "execution_count": 2,
   "metadata": {},
   "outputs": [
    {
     "name": "stdout",
     "output_type": "stream",
     "text": [
      "linear_model(\n",
      "  (layers): ModuleList(\n",
      "    (0): Sequential(\n",
      "      (0): Linear(in_features=600, out_features=512, bias=True)\n",
      "      (1): ReLU(inplace=True)\n",
      "      (2): Identity()\n",
      "    )\n",
      "    (1): Sequential(\n",
      "      (0): Linear(in_features=512, out_features=128, bias=True)\n",
      "      (1): ReLU(inplace=True)\n",
      "      (2): Identity()\n",
      "    )\n",
      "    (2): Sequential(\n",
      "      (0): Linear(in_features=128, out_features=32, bias=True)\n",
      "      (1): ReLU(inplace=True)\n",
      "      (2): Identity()\n",
      "    )\n",
      "    (3): Sequential(\n",
      "      (0): Linear(in_features=32, out_features=128, bias=True)\n",
      "      (1): ReLU(inplace=True)\n",
      "      (2): Identity()\n",
      "    )\n",
      "    (4): Sequential(\n",
      "      (0): Linear(in_features=128, out_features=512, bias=True)\n",
      "      (1): ReLU(inplace=True)\n",
      "      (2): Identity()\n",
      "    )\n",
      "    (5): Sequential(\n",
      "      (0): Linear(in_features=512, out_features=512, bias=True)\n",
      "      (1): ReLU(inplace=True)\n",
      "      (2): Identity()\n",
      "    )\n",
      "    (6): Linear(in_features=512, out_features=1, bias=True)\n",
      "  )\n",
      ")\n"
     ]
    }
   ],
   "source": [
    "search_obj = random_search(config.DEVICE)\n",
    "search_obj.load('./randomsearch/search1.p')\n",
    "best_model = search_obj.best_model\n",
    "print(best_model)"
   ]
  },
  {
   "cell_type": "code",
   "execution_count": 3,
   "metadata": {},
   "outputs": [],
   "source": [
    "\n",
    "df = pd.read_csv(\"./data/Training_data.csv\")\n",
    "df.rename(columns={'CELL_LINE_NAME': 'Cell Line Name'}, inplace=True)\n",
    "sample_row = df.drop(['Cell Line Name',\"DRUG_NAME\",'LN_IC50'],axis =1).iloc[0]\n"
   ]
  },
  {
   "cell_type": "code",
   "execution_count": 4,
   "metadata": {},
   "outputs": [],
   "source": [
    "sample_row = torch.tensor(sample_row.values).to(torch.float32)"
   ]
  },
  {
   "cell_type": "code",
   "execution_count": 5,
   "metadata": {},
   "outputs": [],
   "source": [
    "#graphing the model \n",
    "\n",
    "os.makedirs(\"./graphs/dnn_image\",exist_ok=True)\n",
    "\n",
    "graph_nn_model(best_model.to(config.DEVICE),sample_row.to(config.DEVICE),'./graphs/dnn_image/model_image')"
   ]
  }
 ],
 "metadata": {
  "kernelspec": {
   "display_name": "Python 3",
   "language": "python",
   "name": "python3"
  },
  "language_info": {
   "codemirror_mode": {
    "name": "ipython",
    "version": 3
   },
   "file_extension": ".py",
   "mimetype": "text/x-python",
   "name": "python",
   "nbconvert_exporter": "python",
   "pygments_lexer": "ipython3",
   "version": "3.10.10"
  },
  "orig_nbformat": 4
 },
 "nbformat": 4,
 "nbformat_minor": 2
}
