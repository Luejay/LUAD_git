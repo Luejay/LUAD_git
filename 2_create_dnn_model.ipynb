{
 "cells": [
  {
   "cell_type": "code",
   "execution_count": 1,
   "metadata": {},
   "outputs": [],
   "source": [
    "\n",
    "import torch\n",
    "\n",
    "from nn_model import random_search\n",
    "from modify_df import split_df_by_cell_line_val\n",
    "\n",
    "import config\n",
    "\n",
    "import pandas as pd\n",
    "\n",
    "import os"
   ]
  },
  {
   "cell_type": "code",
   "execution_count": 3,
   "metadata": {},
   "outputs": [],
   "source": [
    "search = random_search(config.DEVICE,config.rand_var)"
   ]
  },
  {
   "cell_type": "code",
   "execution_count": 4,
   "metadata": {},
   "outputs": [],
   "source": [
    "df = pd.read_csv(\"./data/Training_data.csv\")\n",
    "df.rename(columns={'CELL_LINE_NAME': 'Cell Line Name'}, inplace=True)"
   ]
  },
  {
   "cell_type": "code",
   "execution_count": 5,
   "metadata": {},
   "outputs": [],
   "source": [
    "sample_row = df.iloc[0]"
   ]
  },
  {
   "cell_type": "code",
   "execution_count": 6,
   "metadata": {},
   "outputs": [],
   "source": [
    "train_df, test_df, val_df = split_df_by_cell_line_val(df, (0.7,0.2,0.1))"
   ]
  },
  {
   "cell_type": "code",
   "execution_count": 7,
   "metadata": {},
   "outputs": [
    {
     "name": "stdout",
     "output_type": "stream",
     "text": [
      "Trial: 0, Params: {'learning_rate': 0.001, 'num_layers': 3, 'hidden_units_list': [32, 256, 128], 'dropout_perc': 0, 'activation': 'relu', 'in_channels': 512}\n"
     ]
    },
    {
     "name": "stderr",
     "output_type": "stream",
     "text": [
      " 20%|██        | 10/50 [09:02<36:08, 54.21s/it, strike=4, training_total_loss=705, val_threshold=193, val_total_loss=215]   \n"
     ]
    },
    {
     "name": "stdout",
     "output_type": "stream",
     "text": [
      "Testing Total loss: 264.00929069519043\n",
      "\n",
      "Trial: 1, Params: {'learning_rate': 0.1, 'num_layers': 5, 'hidden_units_list': [128, 128, 32, 64, 64], 'dropout_perc': 0.5, 'activation': 'leaky_relu', 'in_channels': 128}\n"
     ]
    },
    {
     "name": "stderr",
     "output_type": "stream",
     "text": [
      " 10%|█         | 5/50 [04:56<44:25, 59.22s/it, strike=4, training_total_loss=1.87e+20, val_threshold=9.82e+12, val_total_loss=2.3e+16] \n"
     ]
    },
    {
     "name": "stdout",
     "output_type": "stream",
     "text": [
      "Testing Total loss: 4.42772357078057e+16\n",
      "\n",
      "Trial: 2, Params: {'learning_rate': 0.001, 'num_layers': 1, 'hidden_units_list': [256], 'dropout_perc': 0, 'activation': 'leaky_relu', 'in_channels': 64}\n"
     ]
    },
    {
     "name": "stderr",
     "output_type": "stream",
     "text": [
      " 28%|██▊       | 14/50 [12:15<31:31, 52.55s/it, strike=4, training_total_loss=559, val_threshold=168, val_total_loss=194]   \n"
     ]
    },
    {
     "name": "stdout",
     "output_type": "stream",
     "text": [
      "Testing Total loss: 315.792240858078\n",
      "\n",
      "Trial: 3, Params: {'learning_rate': 0.001, 'num_layers': 3, 'hidden_units_list': [256, 32, 32], 'dropout_perc': 0, 'activation': 'relu', 'in_channels': 128}\n"
     ]
    },
    {
     "name": "stderr",
     "output_type": "stream",
     "text": [
      " 10%|█         | 5/50 [04:54<44:14, 58.99s/it, strike=4, training_total_loss=782, val_threshold=192, val_total_loss=219]    \n"
     ]
    },
    {
     "name": "stdout",
     "output_type": "stream",
     "text": [
      "Testing Total loss: 284.2211699485779\n",
      "\n",
      "Trial: 4, Params: {'learning_rate': 0.001, 'num_layers': 3, 'hidden_units_list': [256, 512, 256], 'dropout_perc': 0.5, 'activation': 'leaky_relu', 'in_channels': 64}\n"
     ]
    },
    {
     "name": "stderr",
     "output_type": "stream",
     "text": [
      "  8%|▊         | 4/50 [04:08<47:32, 62.00s/it, strike=4, training_total_loss=1.58e+3, val_threshold=272, val_total_loss=278]\n"
     ]
    },
    {
     "name": "stdout",
     "output_type": "stream",
     "text": [
      "Testing Total loss: 523.0959486961365\n",
      "\n",
      "Trial: 5, Params: {'learning_rate': 0.01, 'num_layers': 3, 'hidden_units_list': [512, 256, 64], 'dropout_perc': 0.5, 'activation': 'relu', 'in_channels': 512}\n"
     ]
    },
    {
     "name": "stderr",
     "output_type": "stream",
     "text": [
      " 48%|████▊     | 24/50 [19:38<21:16, 49.10s/it, strike=4, training_total_loss=1.51e+3, val_threshold=221, val_total_loss=222]\n"
     ]
    },
    {
     "name": "stdout",
     "output_type": "stream",
     "text": [
      "Testing Total loss: 401.245414018631\n",
      "\n",
      "Trial: 6, Params: {'learning_rate': 0.1, 'num_layers': 5, 'hidden_units_list': [256, 512, 512, 256, 512], 'dropout_perc': 0.5, 'activation': 'leaky_relu', 'in_channels': 64}\n"
     ]
    },
    {
     "name": "stderr",
     "output_type": "stream",
     "text": [
      " 18%|█▊        | 9/50 [07:50<35:45, 52.32s/it, strike=4, training_total_loss=4.23e+24, val_threshold=9.48e+15, val_total_loss=4.59e+18]\n"
     ]
    },
    {
     "name": "stdout",
     "output_type": "stream",
     "text": [
      "Testing Total loss: 8.811290897128882e+18\n",
      "\n",
      "Trial: 7, Params: {'learning_rate': 0.1, 'num_layers': 2, 'hidden_units_list': [32, 256], 'dropout_perc': 0.5, 'activation': 'relu', 'in_channels': 256}\n"
     ]
    },
    {
     "name": "stderr",
     "output_type": "stream",
     "text": [
      " 14%|█▍        | 7/50 [06:14<38:19, 53.49s/it, strike=4, training_total_loss=1.71e+3, val_threshold=264, val_total_loss=264]\n"
     ]
    },
    {
     "name": "stdout",
     "output_type": "stream",
     "text": [
      "Testing Total loss: 482.6760587692261\n",
      "\n",
      "Trial: 8, Params: {'learning_rate': 0.01, 'num_layers': 5, 'hidden_units_list': [256, 32, 256, 256, 512], 'dropout_perc': 0.5, 'activation': 'relu', 'in_channels': 128}\n"
     ]
    },
    {
     "name": "stderr",
     "output_type": "stream",
     "text": [
      " 10%|█         | 5/50 [04:42<42:19, 56.42s/it, strike=4, training_total_loss=1.67e+3, val_threshold=264, val_total_loss=265]\n"
     ]
    },
    {
     "name": "stdout",
     "output_type": "stream",
     "text": [
      "Testing Total loss: 483.1129288673401\n",
      "\n",
      "Trial: 9, Params: {'learning_rate': 0.1, 'num_layers': 1, 'hidden_units_list': [128], 'dropout_perc': 0, 'activation': 'leaky_relu', 'in_channels': 128}\n"
     ]
    },
    {
     "name": "stderr",
     "output_type": "stream",
     "text": [
      "  8%|▊         | 4/50 [03:53<44:47, 58.42s/it, strike=4, training_total_loss=2.11e+3, val_threshold=251, val_total_loss=259]\n"
     ]
    },
    {
     "name": "stdout",
     "output_type": "stream",
     "text": [
      "Testing Total loss: 478.25580644607544\n",
      "\n",
      "Trial: 10, Params: {'learning_rate': 0.01, 'num_layers': 5, 'hidden_units_list': [512, 32, 128, 256, 64], 'dropout_perc': 0.5, 'activation': 'relu', 'in_channels': 128}\n"
     ]
    },
    {
     "name": "stderr",
     "output_type": "stream",
     "text": [
      "  8%|▊         | 4/50 [03:54<44:55, 58.59s/it, strike=4, training_total_loss=1.68e+3, val_threshold=264, val_total_loss=264]\n"
     ]
    },
    {
     "name": "stdout",
     "output_type": "stream",
     "text": [
      "Testing Total loss: 482.7656226158142\n",
      "\n",
      "Trial: 11, Params: {'learning_rate': 0.1, 'num_layers': 4, 'hidden_units_list': [256, 256, 32, 32], 'dropout_perc': 0, 'activation': 'leaky_relu', 'in_channels': 128}\n"
     ]
    },
    {
     "name": "stderr",
     "output_type": "stream",
     "text": [
      " 20%|██        | 10/50 [08:34<34:18, 51.47s/it, strike=4, training_total_loss=9.57e+5, val_threshold=389, val_total_loss=993]    \n"
     ]
    },
    {
     "name": "stdout",
     "output_type": "stream",
     "text": [
      "Testing Total loss: 1895.7495951652527\n",
      "\n",
      "Trial: 12, Params: {'learning_rate': 0.001, 'num_layers': 3, 'hidden_units_list': [128, 128, 256], 'dropout_perc': 0.5, 'activation': 'relu', 'in_channels': 64}\n"
     ]
    },
    {
     "name": "stderr",
     "output_type": "stream",
     "text": [
      " 22%|██▏       | 11/50 [09:22<33:14, 51.15s/it, strike=4, training_total_loss=1.68e+3, val_threshold=264, val_total_loss=265]\n"
     ]
    },
    {
     "name": "stdout",
     "output_type": "stream",
     "text": [
      "Testing Total loss: 482.8387999534607\n",
      "\n",
      "Trial: 13, Params: {'learning_rate': 0.1, 'num_layers': 1, 'hidden_units_list': [512], 'dropout_perc': 0.5, 'activation': 'relu', 'in_channels': 64}\n"
     ]
    },
    {
     "name": "stderr",
     "output_type": "stream",
     "text": [
      " 10%|█         | 5/50 [04:40<42:07, 56.17s/it, strike=4, training_total_loss=1.83e+3, val_threshold=264, val_total_loss=264]\n"
     ]
    },
    {
     "name": "stdout",
     "output_type": "stream",
     "text": [
      "Testing Total loss: 483.9441428184509\n",
      "\n",
      "Trial: 14, Params: {'learning_rate': 0.01, 'num_layers': 1, 'hidden_units_list': [512], 'dropout_perc': 0.5, 'activation': 'relu', 'in_channels': 512}\n"
     ]
    },
    {
     "name": "stderr",
     "output_type": "stream",
     "text": [
      " 34%|███▍      | 17/50 [14:02<27:15, 49.58s/it, strike=4, training_total_loss=1.24e+3, val_threshold=219, val_total_loss=268]\n"
     ]
    },
    {
     "name": "stdout",
     "output_type": "stream",
     "text": [
      "Testing Total loss: 483.47596645355225\n",
      "\n",
      "Trial: 15, Params: {'learning_rate': 0.001, 'num_layers': 3, 'hidden_units_list': [128, 256, 32], 'dropout_perc': 0.5, 'activation': 'leaky_relu', 'in_channels': 256}\n"
     ]
    },
    {
     "name": "stderr",
     "output_type": "stream",
     "text": [
      " 12%|█▏        | 6/50 [05:28<40:06, 54.69s/it, strike=4, training_total_loss=1.39e+3, val_threshold=258, val_total_loss=282]\n"
     ]
    },
    {
     "name": "stdout",
     "output_type": "stream",
     "text": [
      "Testing Total loss: 537.3905839920044\n",
      "\n",
      "Trial: 16, Params: {'learning_rate': 0.001, 'num_layers': 2, 'hidden_units_list': [256, 32], 'dropout_perc': 0, 'activation': 'leaky_relu', 'in_channels': 128}\n"
     ]
    },
    {
     "name": "stderr",
     "output_type": "stream",
     "text": [
      " 18%|█▊        | 9/50 [07:47<35:30, 51.96s/it, strike=4, training_total_loss=691, val_threshold=178, val_total_loss=209]    \n"
     ]
    },
    {
     "name": "stdout",
     "output_type": "stream",
     "text": [
      "Testing Total loss: 301.3524899482727\n",
      "\n",
      "Trial: 17, Params: {'learning_rate': 0.1, 'num_layers': 1, 'hidden_units_list': [32], 'dropout_perc': 0.5, 'activation': 'leaky_relu', 'in_channels': 128}\n"
     ]
    },
    {
     "name": "stderr",
     "output_type": "stream",
     "text": [
      " 16%|█▌        | 8/50 [07:00<36:49, 52.61s/it, strike=4, training_total_loss=3.09e+3, val_threshold=268, val_total_loss=272]\n"
     ]
    },
    {
     "name": "stdout",
     "output_type": "stream",
     "text": [
      "Testing Total loss: 492.47965908050537\n",
      "\n",
      "Trial: 18, Params: {'learning_rate': 0.1, 'num_layers': 3, 'hidden_units_list': [256, 128, 64], 'dropout_perc': 0.5, 'activation': 'relu', 'in_channels': 128}\n"
     ]
    },
    {
     "name": "stderr",
     "output_type": "stream",
     "text": [
      " 46%|████▌     | 23/50 [18:47<22:03, 49.03s/it, strike=4, training_total_loss=1.66e+3, val_threshold=264, val_total_loss=264]\n"
     ]
    },
    {
     "name": "stdout",
     "output_type": "stream",
     "text": [
      "Testing Total loss: 482.89077281951904\n",
      "\n",
      "Trial: 19, Params: {'learning_rate': 0.1, 'num_layers': 4, 'hidden_units_list': [256, 32, 64, 256], 'dropout_perc': 0, 'activation': 'leaky_relu', 'in_channels': 512}\n"
     ]
    },
    {
     "name": "stderr",
     "output_type": "stream",
     "text": [
      " 40%|████      | 20/50 [16:25<24:38, 49.29s/it, strike=4, training_total_loss=7.05e+4, val_threshold=998, val_total_loss=1.15e+4]    \n"
     ]
    },
    {
     "name": "stdout",
     "output_type": "stream",
     "text": [
      "Testing Total loss: 58427.09886932373\n",
      "\n",
      "Trial: 20, Params: {'learning_rate': 0.1, 'num_layers': 4, 'hidden_units_list': [128, 256, 32, 64], 'dropout_perc': 0.5, 'activation': 'relu', 'in_channels': 256}\n"
     ]
    },
    {
     "name": "stderr",
     "output_type": "stream",
     "text": [
      " 12%|█▏        | 6/50 [05:29<40:14, 54.88s/it, strike=4, training_total_loss=2.21e+3, val_threshold=267, val_total_loss=300]\n"
     ]
    },
    {
     "name": "stdout",
     "output_type": "stream",
     "text": [
      "Testing Total loss: 563.5791902542114\n",
      "\n",
      "Trial: 21, Params: {'learning_rate': 0.1, 'num_layers': 1, 'hidden_units_list': [512], 'dropout_perc': 0.5, 'activation': 'relu', 'in_channels': 256}\n"
     ]
    },
    {
     "name": "stderr",
     "output_type": "stream",
     "text": [
      " 64%|██████▍   | 32/50 [25:47<14:30, 48.35s/it, strike=4, training_total_loss=1.66e+3, val_threshold=264, val_total_loss=265]\n"
     ]
    },
    {
     "name": "stdout",
     "output_type": "stream",
     "text": [
      "Testing Total loss: 482.9846348762512\n",
      "\n",
      "Trial: 22, Params: {'learning_rate': 0.001, 'num_layers': 3, 'hidden_units_list': [512, 64, 64], 'dropout_perc': 0.5, 'activation': 'leaky_relu', 'in_channels': 512}\n"
     ]
    },
    {
     "name": "stderr",
     "output_type": "stream",
     "text": [
      " 46%|████▌     | 23/50 [18:47<22:03, 49.03s/it, strike=4, training_total_loss=977, val_threshold=160, val_total_loss=166]    \n"
     ]
    },
    {
     "name": "stdout",
     "output_type": "stream",
     "text": [
      "Testing Total loss: 288.6058690547943\n",
      "\n",
      "Trial: 23, Params: {'learning_rate': 0.001, 'num_layers': 5, 'hidden_units_list': [32, 64, 512, 64, 32], 'dropout_perc': 0, 'activation': 'leaky_relu', 'in_channels': 128}\n"
     ]
    },
    {
     "name": "stderr",
     "output_type": "stream",
     "text": [
      " 24%|██▍       | 12/50 [10:10<32:14, 50.90s/it, strike=4, training_total_loss=594, val_threshold=160, val_total_loss=169]   \n"
     ]
    },
    {
     "name": "stdout",
     "output_type": "stream",
     "text": [
      "Testing Total loss: 247.7071132659912\n",
      "\n",
      "Trial: 24, Params: {'learning_rate': 0.001, 'num_layers': 5, 'hidden_units_list': [128, 32, 128, 512, 512], 'dropout_perc': 0, 'activation': 'relu', 'in_channels': 512}\n"
     ]
    },
    {
     "name": "stderr",
     "output_type": "stream",
     "text": [
      " 36%|███▌      | 18/50 [14:53<26:27, 49.62s/it, strike=4, training_total_loss=492, val_threshold=150, val_total_loss=153]   \n"
     ]
    },
    {
     "name": "stdout",
     "output_type": "stream",
     "text": [
      "Testing Total loss: 211.43961799144745\n",
      "\n",
      "Trial: 25, Params: {'learning_rate': 0.01, 'num_layers': 4, 'hidden_units_list': [32, 128, 512, 256], 'dropout_perc': 0.5, 'activation': 'leaky_relu', 'in_channels': 128}\n"
     ]
    },
    {
     "name": "stderr",
     "output_type": "stream",
     "text": [
      " 50%|█████     | 25/50 [20:23<20:23, 48.95s/it, strike=4, training_total_loss=1.47e+3, val_threshold=218, val_total_loss=235]\n"
     ]
    },
    {
     "name": "stdout",
     "output_type": "stream",
     "text": [
      "Testing Total loss: 432.37880277633667\n",
      "\n",
      "Trial: 26, Params: {'learning_rate': 0.1, 'num_layers': 2, 'hidden_units_list': [512, 32], 'dropout_perc': 0.5, 'activation': 'leaky_relu', 'in_channels': 64}\n"
     ]
    },
    {
     "name": "stderr",
     "output_type": "stream",
     "text": [
      " 10%|█         | 5/50 [04:42<42:25, 56.57s/it, strike=4, training_total_loss=5.67e+4, val_threshold=245, val_total_loss=268]\n"
     ]
    },
    {
     "name": "stdout",
     "output_type": "stream",
     "text": [
      "Testing Total loss: 501.7567172050476\n",
      "\n",
      "Trial: 27, Params: {'learning_rate': 0.1, 'num_layers': 1, 'hidden_units_list': [128], 'dropout_perc': 0.5, 'activation': 'leaky_relu', 'in_channels': 512}\n"
     ]
    },
    {
     "name": "stderr",
     "output_type": "stream",
     "text": [
      " 22%|██▏       | 11/50 [09:22<33:13, 51.11s/it, strike=4, training_total_loss=1.02e+5, val_threshold=374, val_total_loss=716]       \n"
     ]
    },
    {
     "name": "stdout",
     "output_type": "stream",
     "text": [
      "Testing Total loss: 1394.6853032112122\n",
      "\n",
      "Trial: 28, Params: {'learning_rate': 0.01, 'num_layers': 3, 'hidden_units_list': [64, 256, 128], 'dropout_perc': 0, 'activation': 'relu', 'in_channels': 512}\n"
     ]
    },
    {
     "name": "stderr",
     "output_type": "stream",
     "text": [
      " 10%|█         | 5/50 [04:41<42:14, 56.32s/it, strike=4, training_total_loss=905, val_threshold=210, val_total_loss=216]    \n"
     ]
    },
    {
     "name": "stdout",
     "output_type": "stream",
     "text": [
      "Testing Total loss: 304.1790568828583\n",
      "\n",
      "Trial: 29, Params: {'learning_rate': 0.001, 'num_layers': 4, 'hidden_units_list': [256, 512, 128, 64], 'dropout_perc': 0.5, 'activation': 'leaky_relu', 'in_channels': 64}\n"
     ]
    },
    {
     "name": "stderr",
     "output_type": "stream",
     "text": [
      " 16%|█▌        | 8/50 [07:04<37:06, 53.02s/it, strike=4, training_total_loss=1.57e+3, val_threshold=271, val_total_loss=311]\n"
     ]
    },
    {
     "name": "stdout",
     "output_type": "stream",
     "text": [
      "Testing Total loss: 587.352288722992\n",
      "\n",
      "Trial: 30, Params: {'learning_rate': 0.01, 'num_layers': 1, 'hidden_units_list': [128], 'dropout_perc': 0.5, 'activation': 'relu', 'in_channels': 512}\n"
     ]
    },
    {
     "name": "stderr",
     "output_type": "stream",
     "text": [
      " 14%|█▍        | 7/50 [06:15<38:25, 53.63s/it, strike=4, training_total_loss=1.56e+3, val_threshold=218, val_total_loss=252]\n"
     ]
    },
    {
     "name": "stdout",
     "output_type": "stream",
     "text": [
      "Testing Total loss: 459.99309730529785\n",
      "\n",
      "Trial: 31, Params: {'learning_rate': 0.001, 'num_layers': 5, 'hidden_units_list': [256, 128, 32, 256, 512], 'dropout_perc': 0.5, 'activation': 'relu', 'in_channels': 512}\n"
     ]
    },
    {
     "name": "stderr",
     "output_type": "stream",
     "text": [
      " 56%|█████▌    | 28/50 [22:48<17:55, 48.87s/it, strike=4, training_total_loss=1.46e+3, val_threshold=240, val_total_loss=242]\n"
     ]
    },
    {
     "name": "stdout",
     "output_type": "stream",
     "text": [
      "Testing Total loss: 430.5616946220398\n",
      "\n",
      "Trial: 32, Params: {'learning_rate': 0.01, 'num_layers': 4, 'hidden_units_list': [512, 512, 128, 64], 'dropout_perc': 0.5, 'activation': 'leaky_relu', 'in_channels': 256}\n"
     ]
    },
    {
     "name": "stderr",
     "output_type": "stream",
     "text": [
      " 16%|█▌        | 8/50 [07:04<37:09, 53.07s/it, strike=4, training_total_loss=1.53e+3, val_threshold=248, val_total_loss=288]\n"
     ]
    },
    {
     "name": "stdout",
     "output_type": "stream",
     "text": [
      "Testing Total loss: 538.3393831253052\n",
      "\n",
      "Trial: 33, Params: {'learning_rate': 0.001, 'num_layers': 2, 'hidden_units_list': [32, 32], 'dropout_perc': 0.5, 'activation': 'leaky_relu', 'in_channels': 128}\n"
     ]
    },
    {
     "name": "stderr",
     "output_type": "stream",
     "text": [
      " 74%|███████▍  | 37/50 [29:45<10:27, 48.24s/it, strike=4, training_total_loss=963, val_threshold=137, val_total_loss=152]    \n"
     ]
    },
    {
     "name": "stdout",
     "output_type": "stream",
     "text": [
      "Testing Total loss: 273.2779235839844\n",
      "\n",
      "Trial: 34, Params: {'learning_rate': 0.01, 'num_layers': 5, 'hidden_units_list': [32, 256, 512, 64, 128], 'dropout_perc': 0.5, 'activation': 'relu', 'in_channels': 64}\n"
     ]
    },
    {
     "name": "stderr",
     "output_type": "stream",
     "text": [
      " 10%|█         | 5/50 [04:43<42:31, 56.70s/it, strike=4, training_total_loss=1.68e+3, val_threshold=264, val_total_loss=266]\n"
     ]
    },
    {
     "name": "stdout",
     "output_type": "stream",
     "text": [
      "Testing Total loss: 484.21782398223877\n",
      "\n",
      "Trial: 35, Params: {'learning_rate': 0.01, 'num_layers': 5, 'hidden_units_list': [512, 128, 512, 32, 128], 'dropout_perc': 0.5, 'activation': 'relu', 'in_channels': 64}\n"
     ]
    },
    {
     "name": "stderr",
     "output_type": "stream",
     "text": [
      "  8%|▊         | 4/50 [03:55<45:06, 58.84s/it, strike=4, training_total_loss=1.68e+3, val_threshold=264, val_total_loss=266]\n"
     ]
    },
    {
     "name": "stdout",
     "output_type": "stream",
     "text": [
      "Testing Total loss: 483.94943618774414\n",
      "\n",
      "Trial: 36, Params: {'learning_rate': 0.01, 'num_layers': 3, 'hidden_units_list': [64, 256, 128], 'dropout_perc': 0.5, 'activation': 'relu', 'in_channels': 64}\n"
     ]
    },
    {
     "name": "stderr",
     "output_type": "stream",
     "text": [
      "  8%|▊         | 4/50 [03:54<44:59, 58.69s/it, strike=4, training_total_loss=1.53e+3, val_threshold=300, val_total_loss=338]\n"
     ]
    },
    {
     "name": "stdout",
     "output_type": "stream",
     "text": [
      "Testing Total loss: 633.1641511917114\n",
      "\n",
      "Trial: 37, Params: {'learning_rate': 0.01, 'num_layers': 2, 'hidden_units_list': [64, 32], 'dropout_perc': 0.5, 'activation': 'relu', 'in_channels': 128}\n"
     ]
    },
    {
     "name": "stderr",
     "output_type": "stream",
     "text": [
      " 12%|█▏        | 6/50 [05:29<40:15, 54.90s/it, strike=4, training_total_loss=1.67e+3, val_threshold=262, val_total_loss=265]\n"
     ]
    },
    {
     "name": "stdout",
     "output_type": "stream",
     "text": [
      "Testing Total loss: 483.30559825897217\n",
      "\n",
      "Trial: 38, Params: {'learning_rate': 0.01, 'num_layers': 4, 'hidden_units_list': [256, 64, 128, 512], 'dropout_perc': 0, 'activation': 'relu', 'in_channels': 512}\n"
     ]
    },
    {
     "name": "stderr",
     "output_type": "stream",
     "text": [
      " 18%|█▊        | 9/50 [07:51<35:48, 52.41s/it, strike=4, training_total_loss=776, val_threshold=184, val_total_loss=189]    \n"
     ]
    },
    {
     "name": "stdout",
     "output_type": "stream",
     "text": [
      "Testing Total loss: 272.95405673980713\n",
      "\n",
      "Trial: 39, Params: {'learning_rate': 0.1, 'num_layers': 5, 'hidden_units_list': [512, 128, 64, 512, 32], 'dropout_perc': 0.5, 'activation': 'leaky_relu', 'in_channels': 512}\n"
     ]
    },
    {
     "name": "stderr",
     "output_type": "stream",
     "text": [
      " 12%|█▏        | 6/50 [05:29<40:17, 54.93s/it, strike=4, training_total_loss=4.48e+22, val_threshold=5.93e+13, val_total_loss=2.99e+16]\n"
     ]
    },
    {
     "name": "stdout",
     "output_type": "stream",
     "text": [
      "Testing Total loss: 5.779058670646067e+16\n",
      "\n",
      "Trial: 40, Params: {'learning_rate': 0.001, 'num_layers': 1, 'hidden_units_list': [512], 'dropout_perc': 0.5, 'activation': 'leaky_relu', 'in_channels': 256}\n"
     ]
    },
    {
     "name": "stderr",
     "output_type": "stream",
     "text": [
      " 48%|████▊     | 24/50 [19:34<21:12, 48.95s/it, strike=4, training_total_loss=839, val_threshold=146, val_total_loss=147]    \n"
     ]
    },
    {
     "name": "stdout",
     "output_type": "stream",
     "text": [
      "Testing Total loss: 271.08321619033813\n",
      "\n",
      "Trial: 41, Params: {'learning_rate': 0.001, 'num_layers': 4, 'hidden_units_list': [64, 64, 64, 64], 'dropout_perc': 0, 'activation': 'relu', 'in_channels': 128}\n"
     ]
    },
    {
     "name": "stderr",
     "output_type": "stream",
     "text": [
      " 20%|██        | 10/50 [08:35<34:23, 51.58s/it, strike=4, training_total_loss=621, val_threshold=176, val_total_loss=193]   \n"
     ]
    },
    {
     "name": "stdout",
     "output_type": "stream",
     "text": [
      "Testing Total loss: 259.69897055625916\n",
      "\n",
      "Trial: 42, Params: {'learning_rate': 0.001, 'num_layers': 4, 'hidden_units_list': [32, 32, 256, 128], 'dropout_perc': 0, 'activation': 'relu', 'in_channels': 128}\n"
     ]
    },
    {
     "name": "stderr",
     "output_type": "stream",
     "text": [
      " 14%|█▍        | 7/50 [06:15<38:28, 53.68s/it, strike=4, training_total_loss=766, val_threshold=177, val_total_loss=189]    \n"
     ]
    },
    {
     "name": "stdout",
     "output_type": "stream",
     "text": [
      "Testing Total loss: 291.4567804336548\n",
      "\n",
      "Trial: 43, Params: {'learning_rate': 0.1, 'num_layers': 4, 'hidden_units_list': [128, 64, 128, 32], 'dropout_perc': 0.5, 'activation': 'leaky_relu', 'in_channels': 128}\n"
     ]
    },
    {
     "name": "stderr",
     "output_type": "stream",
     "text": [
      "  8%|▊         | 4/50 [03:55<45:03, 58.76s/it, strike=4, training_total_loss=2.41e+15, val_threshold=4.11e+10, val_total_loss=3.39e+12]\n"
     ]
    },
    {
     "name": "stdout",
     "output_type": "stream",
     "text": [
      "Testing Total loss: 6538724638720.0\n",
      "\n",
      "Trial: 44, Params: {'learning_rate': 0.1, 'num_layers': 1, 'hidden_units_list': [128], 'dropout_perc': 0, 'activation': 'leaky_relu', 'in_channels': 128}\n"
     ]
    },
    {
     "name": "stderr",
     "output_type": "stream",
     "text": [
      " 22%|██▏       | 11/50 [09:28<33:34, 51.66s/it, strike=4, training_total_loss=7.39e+3, val_threshold=203, val_total_loss=581]   \n"
     ]
    },
    {
     "name": "stdout",
     "output_type": "stream",
     "text": [
      "Testing Total loss: 1112.2742972373962\n",
      "\n",
      "Trial: 45, Params: {'learning_rate': 0.01, 'num_layers': 2, 'hidden_units_list': [512, 256], 'dropout_perc': 0.5, 'activation': 'relu', 'in_channels': 512}\n"
     ]
    },
    {
     "name": "stderr",
     "output_type": "stream",
     "text": [
      " 16%|█▌        | 8/50 [08:19<43:42, 62.45s/it, strike=4, training_total_loss=1.46e+3, val_threshold=241, val_total_loss=266]\n"
     ]
    },
    {
     "name": "stdout",
     "output_type": "stream",
     "text": [
      "Testing Total loss: 495.42043113708496\n",
      "\n",
      "Trial: 46, Params: {'learning_rate': 0.001, 'num_layers': 4, 'hidden_units_list': [32, 128, 64, 256], 'dropout_perc': 0, 'activation': 'relu', 'in_channels': 64}\n"
     ]
    },
    {
     "name": "stderr",
     "output_type": "stream",
     "text": [
      " 14%|█▍        | 7/50 [09:07<56:01, 78.18s/it, strike=4, training_total_loss=705, val_threshold=186, val_total_loss=196]    \n"
     ]
    },
    {
     "name": "stdout",
     "output_type": "stream",
     "text": [
      "Testing Total loss: 275.5047516822815\n",
      "\n",
      "Trial: 47, Params: {'learning_rate': 0.01, 'num_layers': 3, 'hidden_units_list': [512, 512, 32], 'dropout_perc': 0.5, 'activation': 'leaky_relu', 'in_channels': 256}\n"
     ]
    },
    {
     "name": "stderr",
     "output_type": "stream",
     "text": [
      " 10%|█         | 5/50 [07:06<1:04:01, 85.36s/it, strike=4, training_total_loss=1.42e+3, val_threshold=286, val_total_loss=494]\n"
     ]
    },
    {
     "name": "stdout",
     "output_type": "stream",
     "text": [
      "Testing Total loss: 957.7322239875793\n",
      "\n",
      "Trial: 48, Params: {'learning_rate': 0.01, 'num_layers': 2, 'hidden_units_list': [256, 32], 'dropout_perc': 0, 'activation': 'relu', 'in_channels': 256}\n"
     ]
    },
    {
     "name": "stderr",
     "output_type": "stream",
     "text": [
      " 12%|█▏        | 6/50 [05:43<42:00, 57.29s/it, strike=4, training_total_loss=1.66e+3, val_threshold=264, val_total_loss=265]\n"
     ]
    },
    {
     "name": "stdout",
     "output_type": "stream",
     "text": [
      "Testing Total loss: 483.4781608581543\n",
      "\n",
      "Trial: 49, Params: {'learning_rate': 0.1, 'num_layers': 1, 'hidden_units_list': [64], 'dropout_perc': 0.5, 'activation': 'relu', 'in_channels': 512}\n"
     ]
    },
    {
     "name": "stderr",
     "output_type": "stream",
     "text": [
      " 44%|████▍     | 22/50 [19:49<25:14, 54.09s/it, strike=4, training_total_loss=1.66e+3, val_threshold=264, val_total_loss=265]\n"
     ]
    },
    {
     "name": "stdout",
     "output_type": "stream",
     "text": [
      "Testing Total loss: 482.9891839027405\n",
      "\n"
     ]
    }
   ],
   "source": [
    "search_obj = random_search(config.DEVICE,config.rand_var)\n",
    "    \n",
    "search_space = {\n",
    "        'learning_rate': [0.001, 0.01, 0.1],\n",
    "        'num_layers': [2, 3, 4, 5,6],\n",
    "        'hidden_units': [32, 64, 128, 256, 512] , #hidden dim of the linear layers\n",
    "        'dropout_perc': [0,0.5],\n",
    "        'activation': ['relu','leaky_relu'],\n",
    "        'in_channels': [128, 256, 512], #dim of first linear layer\n",
    "        }\n",
    "\n",
    "\n",
    "search_obj.search(\n",
    "        (train_df.drop(['Cell Line Name',\"DRUG_NAME\",'LN_IC50'],axis =1), train_df['LN_IC50']),\n",
    "        (val_df.drop(['Cell Line Name',\"DRUG_NAME\",'LN_IC50'],axis =1), val_df['LN_IC50']),\n",
    "        (test_df.drop(['Cell Line Name',\"DRUG_NAME\",'LN_IC50'],axis =1), test_df['LN_IC50']),\n",
    "        max_iter = 50,\n",
    "        epochs = 50,\n",
    "        search_space=search_space,\n",
    "        batchsize=256,\n",
    "        tolerance = 4\n",
    "    )"
   ]
  },
  {
   "cell_type": "code",
   "execution_count": 9,
   "metadata": {},
   "outputs": [
    {
     "name": "stdout",
     "output_type": "stream",
     "text": [
      "Best results:\n",
      "Trial 24\n",
      "result: 211.43961799144745\n",
      "hyperparameters: {'learning_rate': 0.001, 'num_layers': 5, 'hidden_units_list': [128, 32, 128, 512, 512], 'dropout_perc': 0, 'activation': 'relu', 'in_channels': 512}\n",
      "\n",
      "\n",
      "Trial 23\n",
      "result: 247.7071132659912\n",
      "hyperparameters: {'learning_rate': 0.001, 'num_layers': 5, 'hidden_units_list': [32, 64, 512, 64, 32], 'dropout_perc': 0, 'activation': 'leaky_relu', 'in_channels': 128}\n",
      "\n",
      "\n",
      "Trial 41\n",
      "result: 259.69897055625916\n",
      "hyperparameters: {'learning_rate': 0.001, 'num_layers': 4, 'hidden_units_list': [64, 64, 64, 64], 'dropout_perc': 0, 'activation': 'relu', 'in_channels': 128}\n",
      "\n",
      "\n",
      "Trial 0\n",
      "result: 264.00929069519043\n",
      "hyperparameters: {'learning_rate': 0.001, 'num_layers': 3, 'hidden_units_list': [32, 256, 128], 'dropout_perc': 0, 'activation': 'relu', 'in_channels': 512}\n",
      "\n",
      "\n",
      "Trial 40\n",
      "result: 271.08321619033813\n",
      "hyperparameters: {'learning_rate': 0.001, 'num_layers': 1, 'hidden_units_list': [512], 'dropout_perc': 0.5, 'activation': 'leaky_relu', 'in_channels': 256}\n",
      "\n",
      "\n",
      "Trial 38\n",
      "result: 272.95405673980713\n",
      "hyperparameters: {'learning_rate': 0.01, 'num_layers': 4, 'hidden_units_list': [256, 64, 128, 512], 'dropout_perc': 0, 'activation': 'relu', 'in_channels': 512}\n",
      "\n",
      "\n",
      "Trial 33\n",
      "result: 273.2779235839844\n",
      "hyperparameters: {'learning_rate': 0.001, 'num_layers': 2, 'hidden_units_list': [32, 32], 'dropout_perc': 0.5, 'activation': 'leaky_relu', 'in_channels': 128}\n",
      "\n",
      "\n",
      "Trial 46\n",
      "result: 275.5047516822815\n",
      "hyperparameters: {'learning_rate': 0.001, 'num_layers': 4, 'hidden_units_list': [32, 128, 64, 256], 'dropout_perc': 0, 'activation': 'relu', 'in_channels': 64}\n",
      "\n",
      "\n",
      "Trial 3\n",
      "result: 284.2211699485779\n",
      "hyperparameters: {'learning_rate': 0.001, 'num_layers': 3, 'hidden_units_list': [256, 32, 32], 'dropout_perc': 0, 'activation': 'relu', 'in_channels': 128}\n",
      "\n",
      "\n",
      "Trial 22\n",
      "result: 288.6058690547943\n",
      "hyperparameters: {'learning_rate': 0.001, 'num_layers': 3, 'hidden_units_list': [512, 64, 64], 'dropout_perc': 0.5, 'activation': 'leaky_relu', 'in_channels': 512}\n",
      "\n",
      "\n",
      "Trial 42\n",
      "result: 291.4567804336548\n",
      "hyperparameters: {'learning_rate': 0.001, 'num_layers': 4, 'hidden_units_list': [32, 32, 256, 128], 'dropout_perc': 0, 'activation': 'relu', 'in_channels': 128}\n",
      "\n",
      "\n",
      "Trial 16\n",
      "result: 301.3524899482727\n",
      "hyperparameters: {'learning_rate': 0.001, 'num_layers': 2, 'hidden_units_list': [256, 32], 'dropout_perc': 0, 'activation': 'leaky_relu', 'in_channels': 128}\n",
      "\n",
      "\n",
      "Trial 28\n",
      "result: 304.1790568828583\n",
      "hyperparameters: {'learning_rate': 0.01, 'num_layers': 3, 'hidden_units_list': [64, 256, 128], 'dropout_perc': 0, 'activation': 'relu', 'in_channels': 512}\n",
      "\n",
      "\n",
      "Trial 2\n",
      "result: 315.792240858078\n",
      "hyperparameters: {'learning_rate': 0.001, 'num_layers': 1, 'hidden_units_list': [256], 'dropout_perc': 0, 'activation': 'leaky_relu', 'in_channels': 64}\n",
      "\n",
      "\n",
      "Trial 5\n",
      "result: 401.245414018631\n",
      "hyperparameters: {'learning_rate': 0.01, 'num_layers': 3, 'hidden_units_list': [512, 256, 64], 'dropout_perc': 0.5, 'activation': 'relu', 'in_channels': 512}\n",
      "\n",
      "\n",
      "Trial 31\n",
      "result: 430.5616946220398\n",
      "hyperparameters: {'learning_rate': 0.001, 'num_layers': 5, 'hidden_units_list': [256, 128, 32, 256, 512], 'dropout_perc': 0.5, 'activation': 'relu', 'in_channels': 512}\n",
      "\n",
      "\n",
      "Trial 25\n",
      "result: 432.37880277633667\n",
      "hyperparameters: {'learning_rate': 0.01, 'num_layers': 4, 'hidden_units_list': [32, 128, 512, 256], 'dropout_perc': 0.5, 'activation': 'leaky_relu', 'in_channels': 128}\n",
      "\n",
      "\n",
      "Trial 30\n",
      "result: 459.99309730529785\n",
      "hyperparameters: {'learning_rate': 0.01, 'num_layers': 1, 'hidden_units_list': [128], 'dropout_perc': 0.5, 'activation': 'relu', 'in_channels': 512}\n",
      "\n",
      "\n",
      "Trial 9\n",
      "result: 478.25580644607544\n",
      "hyperparameters: {'learning_rate': 0.1, 'num_layers': 1, 'hidden_units_list': [128], 'dropout_perc': 0, 'activation': 'leaky_relu', 'in_channels': 128}\n",
      "\n",
      "\n",
      "Trial 7\n",
      "result: 482.6760587692261\n",
      "hyperparameters: {'learning_rate': 0.1, 'num_layers': 2, 'hidden_units_list': [32, 256], 'dropout_perc': 0.5, 'activation': 'relu', 'in_channels': 256}\n",
      "\n",
      "\n",
      "Trial 10\n",
      "result: 482.7656226158142\n",
      "hyperparameters: {'learning_rate': 0.01, 'num_layers': 5, 'hidden_units_list': [512, 32, 128, 256, 64], 'dropout_perc': 0.5, 'activation': 'relu', 'in_channels': 128}\n",
      "\n",
      "\n",
      "Trial 12\n",
      "result: 482.8387999534607\n",
      "hyperparameters: {'learning_rate': 0.001, 'num_layers': 3, 'hidden_units_list': [128, 128, 256], 'dropout_perc': 0.5, 'activation': 'relu', 'in_channels': 64}\n",
      "\n",
      "\n",
      "Trial 18\n",
      "result: 482.89077281951904\n",
      "hyperparameters: {'learning_rate': 0.1, 'num_layers': 3, 'hidden_units_list': [256, 128, 64], 'dropout_perc': 0.5, 'activation': 'relu', 'in_channels': 128}\n",
      "\n",
      "\n",
      "Trial 21\n",
      "result: 482.9846348762512\n",
      "hyperparameters: {'learning_rate': 0.1, 'num_layers': 1, 'hidden_units_list': [512], 'dropout_perc': 0.5, 'activation': 'relu', 'in_channels': 256}\n",
      "\n",
      "\n",
      "Trial 49\n",
      "result: 482.9891839027405\n",
      "hyperparameters: {'learning_rate': 0.1, 'num_layers': 1, 'hidden_units_list': [64], 'dropout_perc': 0.5, 'activation': 'relu', 'in_channels': 512}\n",
      "\n",
      "\n",
      "Trial 8\n",
      "result: 483.1129288673401\n",
      "hyperparameters: {'learning_rate': 0.01, 'num_layers': 5, 'hidden_units_list': [256, 32, 256, 256, 512], 'dropout_perc': 0.5, 'activation': 'relu', 'in_channels': 128}\n",
      "\n",
      "\n",
      "Trial 37\n",
      "result: 483.30559825897217\n",
      "hyperparameters: {'learning_rate': 0.01, 'num_layers': 2, 'hidden_units_list': [64, 32], 'dropout_perc': 0.5, 'activation': 'relu', 'in_channels': 128}\n",
      "\n",
      "\n",
      "Trial 14\n",
      "result: 483.47596645355225\n",
      "hyperparameters: {'learning_rate': 0.01, 'num_layers': 1, 'hidden_units_list': [512], 'dropout_perc': 0.5, 'activation': 'relu', 'in_channels': 512}\n",
      "\n",
      "\n",
      "Trial 48\n",
      "result: 483.4781608581543\n",
      "hyperparameters: {'learning_rate': 0.01, 'num_layers': 2, 'hidden_units_list': [256, 32], 'dropout_perc': 0, 'activation': 'relu', 'in_channels': 256}\n",
      "\n",
      "\n",
      "Trial 13\n",
      "result: 483.9441428184509\n",
      "hyperparameters: {'learning_rate': 0.1, 'num_layers': 1, 'hidden_units_list': [512], 'dropout_perc': 0.5, 'activation': 'relu', 'in_channels': 64}\n",
      "\n",
      "\n",
      "Trial 35\n",
      "result: 483.94943618774414\n",
      "hyperparameters: {'learning_rate': 0.01, 'num_layers': 5, 'hidden_units_list': [512, 128, 512, 32, 128], 'dropout_perc': 0.5, 'activation': 'relu', 'in_channels': 64}\n",
      "\n",
      "\n",
      "Trial 34\n",
      "result: 484.21782398223877\n",
      "hyperparameters: {'learning_rate': 0.01, 'num_layers': 5, 'hidden_units_list': [32, 256, 512, 64, 128], 'dropout_perc': 0.5, 'activation': 'relu', 'in_channels': 64}\n",
      "\n",
      "\n",
      "Trial 17\n",
      "result: 492.47965908050537\n",
      "hyperparameters: {'learning_rate': 0.1, 'num_layers': 1, 'hidden_units_list': [32], 'dropout_perc': 0.5, 'activation': 'leaky_relu', 'in_channels': 128}\n",
      "\n",
      "\n",
      "Trial 45\n",
      "result: 495.42043113708496\n",
      "hyperparameters: {'learning_rate': 0.01, 'num_layers': 2, 'hidden_units_list': [512, 256], 'dropout_perc': 0.5, 'activation': 'relu', 'in_channels': 512}\n",
      "\n",
      "\n",
      "Trial 26\n",
      "result: 501.7567172050476\n",
      "hyperparameters: {'learning_rate': 0.1, 'num_layers': 2, 'hidden_units_list': [512, 32], 'dropout_perc': 0.5, 'activation': 'leaky_relu', 'in_channels': 64}\n",
      "\n",
      "\n",
      "Trial 4\n",
      "result: 523.0959486961365\n",
      "hyperparameters: {'learning_rate': 0.001, 'num_layers': 3, 'hidden_units_list': [256, 512, 256], 'dropout_perc': 0.5, 'activation': 'leaky_relu', 'in_channels': 64}\n",
      "\n",
      "\n",
      "Trial 15\n",
      "result: 537.3905839920044\n",
      "hyperparameters: {'learning_rate': 0.001, 'num_layers': 3, 'hidden_units_list': [128, 256, 32], 'dropout_perc': 0.5, 'activation': 'leaky_relu', 'in_channels': 256}\n",
      "\n",
      "\n",
      "Trial 32\n",
      "result: 538.3393831253052\n",
      "hyperparameters: {'learning_rate': 0.01, 'num_layers': 4, 'hidden_units_list': [512, 512, 128, 64], 'dropout_perc': 0.5, 'activation': 'leaky_relu', 'in_channels': 256}\n",
      "\n",
      "\n",
      "Trial 20\n",
      "result: 563.5791902542114\n",
      "hyperparameters: {'learning_rate': 0.1, 'num_layers': 4, 'hidden_units_list': [128, 256, 32, 64], 'dropout_perc': 0.5, 'activation': 'relu', 'in_channels': 256}\n",
      "\n",
      "\n",
      "Trial 29\n",
      "result: 587.352288722992\n",
      "hyperparameters: {'learning_rate': 0.001, 'num_layers': 4, 'hidden_units_list': [256, 512, 128, 64], 'dropout_perc': 0.5, 'activation': 'leaky_relu', 'in_channels': 64}\n",
      "\n",
      "\n",
      "Trial 36\n",
      "result: 633.1641511917114\n",
      "hyperparameters: {'learning_rate': 0.01, 'num_layers': 3, 'hidden_units_list': [64, 256, 128], 'dropout_perc': 0.5, 'activation': 'relu', 'in_channels': 64}\n",
      "\n",
      "\n",
      "Trial 47\n",
      "result: 957.7322239875793\n",
      "hyperparameters: {'learning_rate': 0.01, 'num_layers': 3, 'hidden_units_list': [512, 512, 32], 'dropout_perc': 0.5, 'activation': 'leaky_relu', 'in_channels': 256}\n",
      "\n",
      "\n",
      "Trial 44\n",
      "result: 1112.2742972373962\n",
      "hyperparameters: {'learning_rate': 0.1, 'num_layers': 1, 'hidden_units_list': [128], 'dropout_perc': 0, 'activation': 'leaky_relu', 'in_channels': 128}\n",
      "\n",
      "\n",
      "Trial 27\n",
      "result: 1394.6853032112122\n",
      "hyperparameters: {'learning_rate': 0.1, 'num_layers': 1, 'hidden_units_list': [128], 'dropout_perc': 0.5, 'activation': 'leaky_relu', 'in_channels': 512}\n",
      "\n",
      "\n",
      "Trial 11\n",
      "result: 1895.7495951652527\n",
      "hyperparameters: {'learning_rate': 0.1, 'num_layers': 4, 'hidden_units_list': [256, 256, 32, 32], 'dropout_perc': 0, 'activation': 'leaky_relu', 'in_channels': 128}\n",
      "\n",
      "\n",
      "Trial 19\n",
      "result: 58427.09886932373\n",
      "hyperparameters: {'learning_rate': 0.1, 'num_layers': 4, 'hidden_units_list': [256, 32, 64, 256], 'dropout_perc': 0, 'activation': 'leaky_relu', 'in_channels': 512}\n",
      "\n",
      "\n",
      "Trial 43\n",
      "result: 6538724638720.0\n",
      "hyperparameters: {'learning_rate': 0.1, 'num_layers': 4, 'hidden_units_list': [128, 64, 128, 32], 'dropout_perc': 0.5, 'activation': 'leaky_relu', 'in_channels': 128}\n",
      "\n",
      "\n",
      "Trial 1\n",
      "result: 4.42772357078057e+16\n",
      "hyperparameters: {'learning_rate': 0.1, 'num_layers': 5, 'hidden_units_list': [128, 128, 32, 64, 64], 'dropout_perc': 0.5, 'activation': 'leaky_relu', 'in_channels': 128}\n",
      "\n",
      "\n",
      "Trial 39\n",
      "result: 5.779058670646067e+16\n",
      "hyperparameters: {'learning_rate': 0.1, 'num_layers': 5, 'hidden_units_list': [512, 128, 64, 512, 32], 'dropout_perc': 0.5, 'activation': 'leaky_relu', 'in_channels': 512}\n",
      "\n",
      "\n",
      "Trial 6\n",
      "result: 8.811290897128882e+18\n",
      "hyperparameters: {'learning_rate': 0.1, 'num_layers': 5, 'hidden_units_list': [256, 512, 512, 256, 512], 'dropout_perc': 0.5, 'activation': 'leaky_relu', 'in_channels': 64}\n",
      "\n",
      "\n"
     ]
    }
   ],
   "source": [
    "search_obj.get_result()\n",
    "    \n",
    "os.makedirs(\"./randomsearch/\",exist_ok=True)\n",
    "    \n",
    "search_obj.save('./randomsearch/search1.p')"
   ]
  }
 ],
 "metadata": {
  "kernelspec": {
   "display_name": "Python 3",
   "language": "python",
   "name": "python3"
  },
  "language_info": {
   "codemirror_mode": {
    "name": "ipython",
    "version": 3
   },
   "file_extension": ".py",
   "mimetype": "text/x-python",
   "name": "python",
   "nbconvert_exporter": "python",
   "pygments_lexer": "ipython3",
   "version": "3.10.10"
  },
  "orig_nbformat": 4
 },
 "nbformat": 4,
 "nbformat_minor": 2
}
